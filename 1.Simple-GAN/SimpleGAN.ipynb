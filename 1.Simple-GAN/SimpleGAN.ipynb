{
 "cells": [
  {
   "cell_type": "markdown",
   "id": "a19cfa29",
   "metadata": {},
   "source": [
    "### Importing Dependencies"
   ]
  },
  {
   "cell_type": "code",
   "execution_count": 1,
   "id": "25085526",
   "metadata": {},
   "outputs": [],
   "source": [
    "import torch\n",
    "import torch.nn as nn\n",
    "import torch.optim as optim\n",
    "import torchvision\n",
    "import torchvision.datasets as datasets\n",
    "from torch.utils.data import DataLoader\n",
    "import torchvision.transforms as transforms\n",
    "from torch.utils.tensorboard import SummaryWriter  # to print to tensorboard"
   ]
  },
  {
   "cell_type": "markdown",
   "id": "c4358846",
   "metadata": {},
   "source": [
    "### Building Discriminator"
   ]
  },
  {
   "cell_type": "code",
   "execution_count": 2,
   "id": "3d77cfe0",
   "metadata": {},
   "outputs": [],
   "source": [
    "class Discriminator(nn.Module):\n",
    "    def __init__(self, img_dim):\n",
    "        super().__init__()\n",
    "        self.disc = nn.Sequential(\n",
    "            nn.Linear(img_dim, 128),\n",
    "            nn.LeakyReLU(0.1),\n",
    "            nn.Linear(128, 1),\n",
    "            nn.Sigmoid(),\n",
    "        )\n",
    "        \n",
    "    def forward(self, x):\n",
    "        return self.disc(x)"
   ]
  },
  {
   "cell_type": "markdown",
   "id": "155d7d57",
   "metadata": {},
   "source": [
    "### Building Generator"
   ]
  },
  {
   "cell_type": "code",
   "execution_count": 3,
   "id": "4942b78c",
   "metadata": {},
   "outputs": [],
   "source": [
    "class Generator(nn.Module):\n",
    "    def __init__(self, z_dim, img_dim):\n",
    "        super().__init__()\n",
    "        self.gen = nn.Sequential(\n",
    "            nn.Linear(z_dim, 256),\n",
    "            nn.LeakyReLU(0.01),\n",
    "            nn.Linear(256, img_dim),\n",
    "            nn.Tanh(),  # normalize inputs to [-1, 1] so make outputs [-1, 1]\n",
    "        )\n",
    "\n",
    "    def forward(self, x):\n",
    "        return self.gen(x)"
   ]
  },
  {
   "cell_type": "markdown",
   "id": "2c58d2b7",
   "metadata": {},
   "source": [
    "### Hyperparameters, Initializations and Preprocessing"
   ]
  },
  {
   "cell_type": "code",
   "execution_count": 4,
   "id": "fc2d3b23",
   "metadata": {},
   "outputs": [],
   "source": [
    "# Hyperparameters\n",
    "device = \"cuda\" if torch.cuda.is_available() else \"cpu\"\n",
    "lr = 3e-4\n",
    "z_dim = 64\n",
    "image_dim = 28 * 28 * 1  # 784\n",
    "batch_size = 32\n",
    "num_epochs = 50"
   ]
  },
  {
   "cell_type": "code",
   "execution_count": 5,
   "id": "088db348",
   "metadata": {},
   "outputs": [],
   "source": [
    "disc = Discriminator(image_dim).to(device)\n",
    "gen = Generator(z_dim, image_dim).to(device)\n",
    "fixed_noise = torch.randn((batch_size, z_dim)).to(device)\n",
    "transforms = transforms.Compose(\n",
    "    [\n",
    "        transforms.ToTensor(),\n",
    "        transforms.Normalize((0.5,), (0.5,)),\n",
    "    ]\n",
    ")"
   ]
  },
  {
   "cell_type": "code",
   "execution_count": 6,
   "id": "6038b234",
   "metadata": {},
   "outputs": [],
   "source": [
    "dataset = datasets.MNIST(root=\"dataset/\", transform=transforms, download=True)\n",
    "loader = DataLoader(dataset, batch_size=batch_size, shuffle=True)\n",
    "opt_disc = optim.Adam(disc.parameters(), lr=lr)\n",
    "opt_gen = optim.Adam(gen.parameters(), lr=lr)\n",
    "criterion = nn.BCELoss()\n",
    "writer_fake = SummaryWriter(f\"logs/fake\")\n",
    "writer_real = SummaryWriter(f\"logs/real\")\n",
    "step = 0"
   ]
  },
  {
   "cell_type": "markdown",
   "id": "80ec34aa",
   "metadata": {},
   "source": [
    "### Setup training of GANs"
   ]
  },
  {
   "cell_type": "code",
   "execution_count": 7,
   "id": "055ed5d4",
   "metadata": {},
   "outputs": [
    {
     "name": "stdout",
     "output_type": "stream",
     "text": [
      "Epoch [0/50] Batch 0/1875                       Loss D: 0.6752, loss G: 0.7000\n",
      "Epoch [1/50] Batch 0/1875                       Loss D: 0.6149, loss G: 0.8833\n",
      "Epoch [2/50] Batch 0/1875                       Loss D: 0.5996, loss G: 0.8443\n",
      "Epoch [3/50] Batch 0/1875                       Loss D: 0.5307, loss G: 1.2445\n",
      "Epoch [4/50] Batch 0/1875                       Loss D: 0.3616, loss G: 1.4184\n",
      "Epoch [5/50] Batch 0/1875                       Loss D: 0.5658, loss G: 1.3183\n",
      "Epoch [6/50] Batch 0/1875                       Loss D: 0.4730, loss G: 1.3991\n",
      "Epoch [7/50] Batch 0/1875                       Loss D: 0.5785, loss G: 1.1817\n",
      "Epoch [8/50] Batch 0/1875                       Loss D: 0.4531, loss G: 1.2881\n",
      "Epoch [9/50] Batch 0/1875                       Loss D: 0.7686, loss G: 0.7925\n",
      "Epoch [10/50] Batch 0/1875                       Loss D: 0.7639, loss G: 0.7738\n",
      "Epoch [11/50] Batch 0/1875                       Loss D: 0.8209, loss G: 0.8613\n",
      "Epoch [12/50] Batch 0/1875                       Loss D: 0.8502, loss G: 1.0747\n",
      "Epoch [13/50] Batch 0/1875                       Loss D: 0.6720, loss G: 1.2301\n",
      "Epoch [14/50] Batch 0/1875                       Loss D: 0.6288, loss G: 1.1388\n",
      "Epoch [15/50] Batch 0/1875                       Loss D: 0.6330, loss G: 0.8863\n",
      "Epoch [16/50] Batch 0/1875                       Loss D: 0.7490, loss G: 1.0928\n",
      "Epoch [17/50] Batch 0/1875                       Loss D: 0.5790, loss G: 1.3297\n",
      "Epoch [18/50] Batch 0/1875                       Loss D: 0.6549, loss G: 1.1098\n",
      "Epoch [19/50] Batch 0/1875                       Loss D: 0.4505, loss G: 1.5209\n",
      "Epoch [20/50] Batch 0/1875                       Loss D: 0.6282, loss G: 1.1044\n",
      "Epoch [21/50] Batch 0/1875                       Loss D: 0.7149, loss G: 1.2483\n",
      "Epoch [22/50] Batch 0/1875                       Loss D: 0.4774, loss G: 1.3008\n",
      "Epoch [23/50] Batch 0/1875                       Loss D: 0.6586, loss G: 0.9849\n",
      "Epoch [24/50] Batch 0/1875                       Loss D: 0.5513, loss G: 1.3867\n",
      "Epoch [25/50] Batch 0/1875                       Loss D: 0.7624, loss G: 1.1760\n",
      "Epoch [26/50] Batch 0/1875                       Loss D: 0.6516, loss G: 1.1560\n",
      "Epoch [27/50] Batch 0/1875                       Loss D: 0.6533, loss G: 1.2083\n",
      "Epoch [28/50] Batch 0/1875                       Loss D: 0.5947, loss G: 1.2945\n",
      "Epoch [29/50] Batch 0/1875                       Loss D: 0.6345, loss G: 1.3540\n",
      "Epoch [30/50] Batch 0/1875                       Loss D: 0.6033, loss G: 1.4799\n",
      "Epoch [31/50] Batch 0/1875                       Loss D: 0.5770, loss G: 1.3133\n",
      "Epoch [32/50] Batch 0/1875                       Loss D: 0.6316, loss G: 1.5471\n",
      "Epoch [33/50] Batch 0/1875                       Loss D: 0.7053, loss G: 1.0584\n",
      "Epoch [34/50] Batch 0/1875                       Loss D: 0.5796, loss G: 1.7551\n",
      "Epoch [35/50] Batch 0/1875                       Loss D: 0.6915, loss G: 0.8662\n",
      "Epoch [36/50] Batch 0/1875                       Loss D: 0.5449, loss G: 1.3047\n",
      "Epoch [37/50] Batch 0/1875                       Loss D: 0.5245, loss G: 1.4940\n",
      "Epoch [38/50] Batch 0/1875                       Loss D: 0.7616, loss G: 1.0932\n",
      "Epoch [39/50] Batch 0/1875                       Loss D: 0.6112, loss G: 1.1836\n",
      "Epoch [40/50] Batch 0/1875                       Loss D: 0.6923, loss G: 1.3977\n",
      "Epoch [41/50] Batch 0/1875                       Loss D: 0.6132, loss G: 1.2172\n",
      "Epoch [42/50] Batch 0/1875                       Loss D: 0.5859, loss G: 1.1269\n",
      "Epoch [43/50] Batch 0/1875                       Loss D: 0.5132, loss G: 1.2284\n",
      "Epoch [44/50] Batch 0/1875                       Loss D: 0.5335, loss G: 1.3121\n",
      "Epoch [45/50] Batch 0/1875                       Loss D: 0.5961, loss G: 1.2210\n",
      "Epoch [46/50] Batch 0/1875                       Loss D: 0.7197, loss G: 1.0452\n",
      "Epoch [47/50] Batch 0/1875                       Loss D: 0.3810, loss G: 1.4578\n",
      "Epoch [48/50] Batch 0/1875                       Loss D: 0.5801, loss G: 0.9823\n",
      "Epoch [49/50] Batch 0/1875                       Loss D: 0.7203, loss G: 0.9346\n"
     ]
    }
   ],
   "source": [
    "for epoch in range(num_epochs):\n",
    "    for batch_idx, (real, _) in enumerate(loader):\n",
    "        real = real.view(-1, 784).to(device)\n",
    "        batch_size = real.shape[0]\n",
    "\n",
    "        ### Train Discriminator: max log(D(x)) + log(1 - D(G(z)))\n",
    "        noise = torch.randn(batch_size, z_dim).to(device)\n",
    "        fake = gen(noise)\n",
    "        disc_real = disc(real).view(-1)\n",
    "        lossD_real = criterion(disc_real, torch.ones_like(disc_real))\n",
    "        disc_fake = disc(fake).view(-1)\n",
    "        lossD_fake = criterion(disc_fake, torch.zeros_like(disc_fake))\n",
    "        lossD = (lossD_real + lossD_fake) / 2\n",
    "        disc.zero_grad()\n",
    "        lossD.backward(retain_graph=True)\n",
    "        opt_disc.step()\n",
    "\n",
    "        ### Train Generator: min log(1 - D(G(z))) <-> max log(D(G(z))\n",
    "        # where the second option of maximizing doesn't suffer from\n",
    "        # saturating gradients\n",
    "        output = disc(fake).view(-1)\n",
    "        lossG = criterion(output, torch.ones_like(output))\n",
    "        gen.zero_grad()\n",
    "        lossG.backward()\n",
    "        opt_gen.step()\n",
    "\n",
    "        if batch_idx == 0:\n",
    "            print(\n",
    "                f\"Epoch [{epoch}/{num_epochs}] Batch {batch_idx}/{len(loader)} \\\n",
    "                      Loss D: {lossD:.4f}, loss G: {lossG:.4f}\"\n",
    "            )\n",
    "\n",
    "            with torch.no_grad():\n",
    "                fake = gen(fixed_noise).reshape(-1, 1, 28, 28)\n",
    "                data = real.reshape(-1, 1, 28, 28)\n",
    "                img_grid_fake = torchvision.utils.make_grid(fake, normalize=True)\n",
    "                img_grid_real = torchvision.utils.make_grid(data, normalize=True)\n",
    "\n",
    "                writer_fake.add_image(\n",
    "                    \"Mnist Fake Images\", img_grid_fake, global_step=step\n",
    "                )\n",
    "                writer_real.add_image(\n",
    "                    \"Mnist Real Images\", img_grid_real, global_step=step\n",
    "                )\n",
    "                step += 1"
   ]
  },
  {
   "cell_type": "code",
   "execution_count": null,
   "id": "87031b93",
   "metadata": {},
   "outputs": [],
   "source": []
  }
 ],
 "metadata": {
  "kernelspec": {
   "display_name": "Python 3 (ipykernel)",
   "language": "python",
   "name": "python3"
  },
  "language_info": {
   "codemirror_mode": {
    "name": "ipython",
    "version": 3
   },
   "file_extension": ".py",
   "mimetype": "text/x-python",
   "name": "python",
   "nbconvert_exporter": "python",
   "pygments_lexer": "ipython3",
   "version": "3.9.13"
  }
 },
 "nbformat": 4,
 "nbformat_minor": 5
}
